{
  "nbformat": 4,
  "nbformat_minor": 0,
  "metadata": {
    "colab": {
      "provenance": []
    },
    "kernelspec": {
      "name": "python3",
      "display_name": "Python 3"
    },
    "language_info": {
      "name": "python"
    }
  },
  "cells": [
    {
      "cell_type": "code",
      "execution_count": 1,
      "metadata": {
        "colab": {
          "base_uri": "https://localhost:8080/"
        },
        "id": "inq8Vv2TiNMZ",
        "outputId": "dfc54070-c8bc-4677-cda0-3d0b7e0d0a4b"
      },
      "outputs": [
        {
          "output_type": "stream",
          "name": "stdout",
          "text": [
            "Similarity using ORB is:  0.9976744186046511\n",
            "Similarity using SSIM is:  0.9950583429652654\n"
          ]
        },
        {
          "output_type": "stream",
          "name": "stderr",
          "text": [
            "/usr/local/lib/python3.10/dist-packages/skimage/_shared/utils.py:348: UserWarning: Inputs have mismatched dtype.  Setting data_range based on im1.dtype.\n",
            "  return func(*args, **kwargs)\n"
          ]
        }
      ],
      "source": [
        "# https://youtu.be/16s3Pi1InPU\n",
        "\"\"\"\n",
        "Comparing images using ORB/SIFT feature detectors\n",
        "and structural similarity index.\n",
        "\n",
        "@author: Sreenivas Bhattiprolu\n",
        "\"\"\"\n",
        "\n",
        "\n",
        "from skimage.metrics import structural_similarity\n",
        "import cv2\n",
        "\n",
        "#Works well with images of different dimensions\n",
        "def orb_sim(img1, img2):\n",
        "  # SIFT is no longer available in cv2 so using ORB\n",
        "  orb = cv2.ORB_create()\n",
        "\n",
        "  # detect keypoints and descriptors\n",
        "  kp_a, desc_a = orb.detectAndCompute(img1, None)\n",
        "  kp_b, desc_b = orb.detectAndCompute(img2, None)\n",
        "\n",
        "  # define the bruteforce matcher object\n",
        "  bf = cv2.BFMatcher(cv2.NORM_HAMMING, crossCheck=True)\n",
        "\n",
        "  #perform matches.\n",
        "  matches = bf.match(desc_a, desc_b)\n",
        "  #Look for similar regions with distance < 50. Goes from 0 to 100 so pick a number between.\n",
        "  similar_regions = [i for i in matches if i.distance < 50]\n",
        "  if len(matches) == 0:\n",
        "    return 0\n",
        "  return len(similar_regions) / len(matches)\n",
        "\n",
        "\n",
        "#Needs images to be same dimensions\n",
        "def structural_sim(img1, img2):\n",
        "\n",
        "  sim, diff = structural_similarity(img1, img2, full=True)\n",
        "  return sim\n",
        "\n",
        "img00 = cv2.imread('images/monkey_distorted.jpg', 0)\n",
        "img01 = cv2.imread('images/monkey_rotated.jpg', 0)\n",
        "\n",
        "img1 = cv2.imread('/content/off.png', 0)  # 714 x 901 pixels\n",
        "# img2 = cv2.imread('images/BSE_noisy.jpg', 0)  # 714 x 901 pixels\n",
        "img3 = cv2.imread('/content/raw.png', 0)  # 203 x 256 pixels\n",
        "# img4 = cv2.imread('images/different_img.jpg', 0)  # 203 x 256 pixels\n",
        "\n",
        "orb_similarity = orb_sim(img1, img3)  #1.0 means identical. Lower = not similar\n",
        "\n",
        "print(\"Similarity using ORB is: \", orb_similarity)\n",
        "#Resize for SSIM\n",
        "from skimage.transform import resize\n",
        "img5 = resize(img3, (img1.shape[0], img1.shape[1]), anti_aliasing=True, preserve_range=True)\n",
        "\n",
        "ssim = structural_sim(img1, img5) #1.0 means identical. Lower = not similar\n",
        "print(\"Similarity using SSIM is: \", ssim)"
      ]
    },
    {
      "cell_type": "code",
      "source": [],
      "metadata": {
        "id": "1D-UDVrMkzwH"
      },
      "execution_count": null,
      "outputs": []
    }
  ]
}