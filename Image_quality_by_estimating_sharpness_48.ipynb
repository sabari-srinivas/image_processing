{
  "nbformat": 4,
  "nbformat_minor": 0,
  "metadata": {
    "colab": {
      "provenance": []
    },
    "kernelspec": {
      "name": "python3",
      "display_name": "Python 3"
    },
    "language_info": {
      "name": "python"
    }
  },
  "cells": [
    {
      "cell_type": "code",
      "source": [
        "\n",
        "pip install git+https://github.com/umang-singhal/pydom.git"
      ],
      "metadata": {
        "colab": {
          "base_uri": "https://localhost:8080/"
        },
        "id": "MQbyifbS3btI",
        "outputId": "98009832-fde0-419a-8a64-b7c5ee6e1ac3"
      },
      "execution_count": 1,
      "outputs": [
        {
          "output_type": "stream",
          "name": "stdout",
          "text": [
            "Collecting git+https://github.com/umang-singhal/pydom.git\n",
            "  Cloning https://github.com/umang-singhal/pydom.git to /tmp/pip-req-build-wl41sjsp\n",
            "  Running command git clone --filter=blob:none --quiet https://github.com/umang-singhal/pydom.git /tmp/pip-req-build-wl41sjsp\n",
            "  Resolved https://github.com/umang-singhal/pydom.git to commit 2554af8d08a80658539f002eae58ece89cbcc6d4\n",
            "  Preparing metadata (setup.py) ... \u001b[?25l\u001b[?25hdone\n",
            "Requirement already satisfied: numpy in /usr/local/lib/python3.10/dist-packages (from pydom==0.1) (1.23.5)\n",
            "Requirement already satisfied: opencv-python in /usr/local/lib/python3.10/dist-packages (from pydom==0.1) (4.8.0.76)\n",
            "Building wheels for collected packages: pydom\n",
            "  Building wheel for pydom (setup.py) ... \u001b[?25l\u001b[?25hdone\n",
            "  Created wheel for pydom: filename=pydom-0.1-py3-none-any.whl size=17988 sha256=3b25a83a72135322856401ae3a52eb04ae5212771537435ed0c9edba74c2c2b9\n",
            "  Stored in directory: /tmp/pip-ephem-wheel-cache-taw3jhen/wheels/37/c2/59/e9bf86dcc76ee6a10c3c68a8b0490b77ce2ddaf879f65eca46\n",
            "Successfully built pydom\n",
            "Installing collected packages: pydom\n",
            "Successfully installed pydom-0.1\n"
          ]
        }
      ]
    },
    {
      "cell_type": "code",
      "execution_count": 2,
      "metadata": {
        "colab": {
          "base_uri": "https://localhost:8080/"
        },
        "id": "Bd2UDvn52rLB",
        "outputId": "514be3b4-316e-48ba-b4a1-c984720b675e"
      },
      "outputs": [
        {
          "output_type": "stream",
          "name": "stdout",
          "text": [
            "Sharpness for reference image: 0.8522620310418062\n",
            "Sharpness for 2 sigma blurred image: 0.8522620310418062\n",
            "Sharpness for 3 sigma blurred image: 1.0515643164286734\n",
            "Sharpness for 5 sigma blurred image: 0.8841435620844198\n"
          ]
        }
      ],
      "source": [
        "\n",
        "from dom import DOM\n",
        "import cv2\n",
        "\n",
        "#img = cv2.imread(\"images/image_quality_estimation/02_2sigma_blurred.tif\", 1)\n",
        "img1 = cv2.imread(\"/content/blurry-text-1.png\", 1)\n",
        "img2 = cv2.imread(\"/content/blurry-text-1.png\", 1)\n",
        "img3 = cv2.imread(\"/content/hello-world.png\", 1)\n",
        "img4 = cv2.imread(\"/content/motion-blur.jpg\", 1)\n",
        "\n",
        "\n",
        "# initialize DOM\n",
        "iqa = DOM()\n",
        "\n",
        "#Calculate scores\n",
        "score1 = iqa.get_sharpness(img1)\n",
        "score2 = iqa.get_sharpness(img2)\n",
        "score3 = iqa.get_sharpness(img3)\n",
        "score4 = iqa.get_sharpness(img4)\n",
        "\n",
        "print(\"Sharpness for reference image:\", score1)\n",
        "print(\"Sharpness for 2 sigma blurred image:\", score2)\n",
        "print(\"Sharpness for 3 sigma blurred image:\", score3)\n",
        "print(\"Sharpness for 5 sigma blurred image:\", score4)"
      ]
    },
    {
      "cell_type": "code",
      "source": [],
      "metadata": {
        "id": "v_uIYlOX44hc"
      },
      "execution_count": null,
      "outputs": []
    }
  ]
}